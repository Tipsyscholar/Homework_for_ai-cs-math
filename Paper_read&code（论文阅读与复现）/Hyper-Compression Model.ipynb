{
 "cells": [
  {
   "cell_type": "markdown",
   "id": "497ae978",
   "metadata": {},
   "source": [
    "把参数按照K=2分组，选定a使得尽量密铺，并且分成M组来缩放，并用K-D树来搜索最近邻，并且可以并行加速"
   ]
  }
 ],
 "metadata": {
  "language_info": {
   "name": "python"
  }
 },
 "nbformat": 4,
 "nbformat_minor": 5
}
