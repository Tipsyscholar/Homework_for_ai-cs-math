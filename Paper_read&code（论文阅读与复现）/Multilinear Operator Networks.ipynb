{
 "cells": [
  {
   "cell_type": "markdown",
   "id": "ff903020",
   "metadata": {},
   "source": [
    "Monet除去了非线性激活，可以显式写出来，全秩+低秩\n",
    "\n",
    "Y = C[(AX) * (BDX) + AX]\n",
    "\n",
    "消融/实验（金字塔（有效果，节省计算），宽和深，（深更好）空间位移错位交叉（不重要），低秩压缩，（可以压得很大但不影响准确率），imagenet C测鲁棒性，低归纳偏置（处理比较通用，一般是vit，cnn是高归纳偏置），小数据一般不佳，但是monet也效果好 说明捕捉发现规律的效率很快，捕食者模型ode推的效果非常好。\n"
   ]
  }
 ],
 "metadata": {
  "language_info": {
   "name": "python"
  }
 },
 "nbformat": 4,
 "nbformat_minor": 5
}
